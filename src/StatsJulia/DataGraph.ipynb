{
 "metadata": {
  "language": "Julia",
  "name": "",
  "signature": "sha256:6503414255ac2a0b022834d11f9100bc27e1c1a413dba8a181e38ceeda79e2d9"
 },
 "nbformat": 3,
 "nbformat_minor": 0,
 "worksheets": [
  {
   "cells": [
    {
     "cell_type": "code",
     "collapsed": false,
     "input": [
      "include(\"StatsLib.jl\")"
     ],
     "language": "python",
     "metadata": {},
     "outputs": [
      {
       "output_type": "stream",
       "stream": "stderr",
       "text": [
        "Warning: replacing module Tmp\n"
       ]
      }
     ],
     "prompt_number": 16
    },
    {
     "cell_type": "code",
     "collapsed": false,
     "input": [
      "eta = 0.0\n",
      "#path = \"/home/martin/DATOS_SIMS/DataJul/data_eta$eta\"\n",
      "path = \"/Users/martinzh/DATOS_SIMS/DatJul/data_eta$eta\""
     ],
     "language": "python",
     "metadata": {},
     "outputs": [
      {
       "metadata": {},
       "output_type": "pyout",
       "prompt_number": 11,
       "text": [
        "\"/Users/martinzh/DATOS_SIMS/DatJul/data_eta0.0\""
       ]
      }
     ],
     "prompt_number": 11
    },
    {
     "cell_type": "code",
     "collapsed": false,
     "input": [
      "params = Tmp.GetParams(path)\n",
      "vels = Tmp.GetVecs(path,\"vels\")\n",
      "trays = Tmp.GetVecs(path,\"trays\")\n",
      "\n",
      "println(typeof(vels))\n",
      "println(params)"
     ],
     "language": "python",
     "metadata": {},
     "outputs": [
      {
       "output_type": "stream",
       "stream": "stdout",
       "text": [
        "/Users/martinzh/DATOS_SIMS/DatJul/data_eta0.0/params.txt\n"
       ]
      },
      {
       "output_type": "stream",
       "stream": "stdout",
       "text": [
        "/Users/martinzh/DATOS_SIMS/DatJul/data_eta0.0/vels.txt"
       ]
      },
      {
       "output_type": "stream",
       "stream": "stdout",
       "text": [
        "\n",
        "/Users/martinzh/DATOS_SIMS/DatJul/data_eta0.0/trays.txt\n",
        "Array"
       ]
      },
      {
       "output_type": "stream",
       "stream": "stdout",
       "text": [
        "{Float64,2}\n"
       ]
      },
      {
       "output_type": "stream",
       "stream": "stdout",
       "text": [
        "[350.0,3.5,4.0,0.0,0.0,1.0,0.25,5000.0,100.0]\n"
       ]
      }
     ],
     "prompt_number": 12
    },
    {
     "cell_type": "code",
     "collapsed": false,
     "input": [
      "N = int(params[1])\n",
      "ro = params[2]\n",
      "radio = params[3]\n",
      "f = params[4]\n",
      "eta = params[5]\n",
      "relWeight = params[6]\n",
      "regVel = params[7]\n",
      "tf = int(params[8])\n",
      "step = int(params[9])\n",
      "\n",
      "itTot = int(tf/step)"
     ],
     "language": "python",
     "metadata": {},
     "outputs": [
      {
       "metadata": {},
       "output_type": "pyout",
       "prompt_number": 14,
       "text": [
        "50"
       ]
      }
     ],
     "prompt_number": 14
    },
    {
     "cell_type": "code",
     "collapsed": false,
     "input": [
      "vels\n",
      "#vels[1,1:end]\n",
      "\n",
      "#Tmp.VecProm(vels,itTot,step)\n"
     ],
     "language": "python",
     "metadata": {},
     "outputs": [
      {
       "metadata": {},
       "output_type": "pyout",
       "prompt_number": 22,
       "text": [
        "51x700 Array{Float64,2}:\n",
        " -0.107089  -0.994249   0.410556  \u2026   0.203762   0.319897   0.947452\n",
        "  0.466046   0.884761  -0.162362     -0.112585   0.56665   -0.823959\n",
        " -0.921942   0.387328  -0.475411     -0.59633   -0.624032  -0.781399\n",
        "  0.830041   0.557702  -0.475411     -0.979407  -0.477926   0.8784  \n",
        " -0.909626  -0.415428  -0.475411      0.995599   0.97251   -0.232863\n",
        " -0.815003  -0.579457  -0.475411  \u2026  -0.260603   0.123955  -0.992288\n",
        "  0.431127  -0.902291  -0.475411     -0.973587  -0.391181  -0.920314\n",
        " -0.968349  -0.249602  -0.475411     -0.964924  -0.914488  -0.404614\n",
        " -0.830518  -0.556992  -0.475411      0.101141  -0.59093    0.806723\n",
        "  0.703857   0.710341  -0.475411     -0.550395   0.654412  -0.756138\n",
        "  0.268499   0.96328   -0.475411  \u2026   0.766567   0.690444  -0.723386\n",
        "  0.985482   0.169779  -0.475411      0.322413  -0.867039  -0.49824 \n",
        " -0.883309   0.468792  -0.475411     -0.140163   0.9153     0.402773\n",
        "  \u22ee                               \u22f1                                 \n",
        "  0.729487   0.683995  -0.475411     -0.698163  -0.669896  -0.742455\n",
        "  0.729487   0.683995  -0.475411  \u2026  -0.698163  -0.669896  -0.742455\n",
        "  0.729487   0.683995  -0.475411     -0.698163  -0.669896  -0.742455\n",
        "  0.729487   0.683995  -0.475411     -0.698163  -0.669896  -0.742455\n",
        "  0.729487   0.683995  -0.475411     -0.698163  -0.669896  -0.742455\n",
        "  0.729487   0.683995  -0.475411     -0.698163  -0.669896  -0.742455\n",
        "  0.729487   0.683995  -0.475411  \u2026  -0.698163  -0.669896  -0.742455\n",
        "  0.729487   0.683995  -0.475411     -0.698163  -0.669896  -0.742455\n",
        "  0.729487   0.683995  -0.475411     -0.698163  -0.669896  -0.742455\n",
        "  0.729487   0.683995  -0.475411     -0.698163  -0.669896  -0.742455\n",
        "  0.729487   0.683995  -0.475411     -0.698163  -0.669896  -0.742455\n",
        "  0.729487   0.683995  -0.475411  \u2026  -0.698163  -0.669896  -0.742455"
       ]
      }
     ],
     "prompt_number": 22
    }
   ],
   "metadata": {}
  }
 ]
}