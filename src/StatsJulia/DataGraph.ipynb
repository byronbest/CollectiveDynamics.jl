{
 "metadata": {
  "language": "Julia",
  "name": "",
  "signature": "sha256:aa682e087269d6046fb2330375894bfde7e678a8b9ee9b3f98ecc4ce54c40c0c"
 },
 "nbformat": 3,
 "nbformat_minor": 0,
 "worksheets": [
  {
   "cells": [
    {
     "cell_type": "code",
     "collapsed": false,
     "input": [
      "include(\"StatsLib.jl\")"
     ],
     "language": "python",
     "metadata": {},
     "outputs": [
      {
       "output_type": "stream",
       "stream": "stderr",
       "text": [
        "Warning: replacing module Tmp\n"
       ]
      }
     ],
     "prompt_number": 276
    },
    {
     "cell_type": "code",
     "collapsed": false,
     "input": [
      "eta = 0.1\n",
      "path = \"/home/martin/DATOS_SIMS/DataJul/data_eta$eta\""
     ],
     "language": "python",
     "metadata": {},
     "outputs": [
      {
       "metadata": {},
       "output_type": "pyout",
       "prompt_number": 206,
       "text": [
        "\"/home/martin/DATOS_SIMS/DataJul/data_eta0.1\""
       ]
      }
     ],
     "prompt_number": 206
    },
    {
     "cell_type": "code",
     "collapsed": false,
     "input": [
      "params = Tmp.GetParams(path)\n",
      "vels = Tmp.GetVecs(path,\"vels\")\n",
      "trays = Tmp.GetVecs(path,\"trays\")\n",
      "\n",
      "println(typeof(vels))\n",
      "println(params)"
     ],
     "language": "python",
     "metadata": {},
     "outputs": [
      {
       "output_type": "stream",
       "stream": "stdout",
       "text": [
        "/home/martin/DATOS_SIMS/DataJul/data_eta0.1/params.txt\n"
       ]
      },
      {
       "output_type": "stream",
       "stream": "stdout",
       "text": [
        "/home/martin/DATOS_SIMS/DataJul/data_eta0.1/vels.txt\n",
        "/home/martin/DATOS_SIMS/DataJul/data_eta0.1/trays.txt\n",
        "Array{Float64,2}\n",
        "[350.0,3.5,4.0,0.0,0.1,1.0,0.25,5000.0,100.0]\n"
       ]
      }
     ],
     "prompt_number": 220
    },
    {
     "cell_type": "code",
     "collapsed": false,
     "input": [
      "N = int(params[1])\n",
      "ro = params[2]\n",
      "radio = params[3]\n",
      "f = params[4]\n",
      "eta = params[5]\n",
      "relWeight = params[6]\n",
      "regVel = params[7]\n",
      "#tf = int(params[7])\n",
      "tf = int(params[8])\n",
      "step = int(params[9])\n",
      "\n",
      "itTot = int(tf/step)"
     ],
     "language": "python",
     "metadata": {},
     "outputs": [
      {
       "metadata": {},
       "output_type": "pyout",
       "prompt_number": 235,
       "text": [
        "50"
       ]
      }
     ],
     "prompt_number": 235
    },
    {
     "cell_type": "code",
     "collapsed": false,
     "input": [
      "Tmp.VecProm(vels,itTot,step)\n"
     ],
     "language": "python",
     "metadata": {},
     "outputs": [
      {
       "output_type": "stream",
       "stream": "stdout",
       "text": [
        "700,51\n"
       ]
      },
      {
       "output_type": "stream",
       "stream": "stdout",
       "text": [
        "[-21.266790541337464,18.13143113296873]\n",
        "[-0.030381129344767804,0.025902044475669614]\n",
        "0.03992403947852819\n"
       ]
      }
     ],
     "prompt_number": 277
    }
   ],
   "metadata": {}
  }
 ]
}