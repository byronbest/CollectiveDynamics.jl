{
 "metadata": {
  "name": "",
  "signature": "sha256:bb09b7b720e2fb301bad77282126b2ba81fb45e1ff86873b7c9fd339ab3f0297"
 },
 "nbformat": 3,
 "nbformat_minor": 0,
 "worksheets": []
}