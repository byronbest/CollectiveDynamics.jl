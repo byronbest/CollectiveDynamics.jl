{
 "metadata": {
  "language": "Julia",
  "name": "",
  "signature": "sha256:b683df13b5726c0d666c82688bc07431e7ed13268170b11da358228debc6ec61"
 },
 "nbformat": 3,
 "nbformat_minor": 0,
 "worksheets": [
  {
   "cells": [
    {
     "cell_type": "code",
     "collapsed": false,
     "input": [
      "N = 10\n",
      "dim= 2\n",
      "v0 = 1\n",
      "pos = Array[] #Vector de posiciones\n",
      "vel = Array[] #Vector de velocidades\n",
      "Dist = zeros(N,N) #Matriz de distancias\n",
      "Adj = zeros(N,N) #Matriz de adjacencia\n",
      "\n",
      "r0 = 3.\n",
      "L = 2.\n",
      "\n",
      "#Genera N vectores aleatorios de dimension dim\n",
      "for i = 1:N\n",
      "    #push!(pos,rand(-L:L,dim)) #inicia en una caja de tamanio L\n",
      "    push!(pos,rand(dim)*L) #inicia en una caja de tamanio L\n",
      "    push!(vel,rand(dim))\n",
      "end\n",
      "\n",
      "#Normaliza los vectores, magnitud v0 direccion aleatoria\n",
      "for i in 1:N\n",
      "    vel[i] = vel[i] * (v0/norm(vel[i]))\n",
      "    #println(norm(vel[i]))\n",
      "end\n",
      "\n",
      "#calcula distancias y adjacencia\n",
      "Adj = zeros(N,N) #Limpia matriz adjacencia\n",
      "Dist = zeros(N,N) #Limpia matriz adjacencia\n",
      "\n",
      "for i = 1:N\n",
      "    for j = N:-1:i\n",
      "        \n",
      "        d = norm(pos[i]-pos[j])\n",
      "        Dist[i;j] = Dist[j;i] = d\n",
      "        \n",
      "        #d < r0 && d > 0 ? Adj[i;j] = Adj[j;i] = 1 : Adj[i;j] = 0\n",
      "        d < r0 ? Adj[i;j] = Adj[j;i] = 1 : Adj[i;j] = 0\n",
      "    end\n",
      "end\n",
      "\n",
      "println(Adj)\n",
      "\n",
      "#Actualiza posiciones\n",
      "#println(pos)\n",
      "for i = 1:N\n",
      "    pos[i] = pos[i] + vel[i] \n",
      "end\n",
      "#println(pos)\n",
      "\n",
      "rand(-2:2,2)\n",
      "\n",
      "#Actualiza velocidades"
     ],
     "language": "python",
     "metadata": {},
     "outputs": [
      {
       "output_type": "stream",
       "stream": "stdout",
       "text": [
        "[1"
       ]
      },
      {
       "output_type": "stream",
       "stream": "stdout",
       "text": [
        ".0 1.0 1.0 1.0 1.0 1.0 1.0 1.0 1.0 1.0\n",
        " 1.0 1.0 1.0 1.0 1.0 1.0 1.0 1.0 1.0 1.0\n",
        " 1.0 1.0 1.0 1.0 1.0 1.0 1.0 1.0 1.0 1.0\n",
        " 1.0 1.0 1.0 1.0 1.0 1.0 1.0 1.0 1.0 1.0\n",
        " 1.0 1.0 1.0 1.0 1.0 1.0 1.0 1.0 1.0 1.0\n",
        " 1.0 1.0 1.0 1.0 1.0 1.0 1.0 1.0 1.0 1.0\n",
        " 1.0 1.0 1.0 1.0 1.0 1.0 1.0 1.0 1.0 1.0\n",
        " 1.0 1.0 1.0 1.0 1.0 1.0 1.0 1.0 1.0 1.0\n",
        " 1.0 1.0 1.0 1.0 1.0 1.0 1.0 1.0 1.0 1.0\n",
        " 1.0 1.0 1.0 1.0 1.0 1.0 1.0 1.0 1.0 1.0]\n"
       ]
      },
      {
       "metadata": {},
       "output_type": "pyout",
       "prompt_number": 4,
       "text": [
        "2-element Array{Int64,1}:\n",
        " -1\n",
        " -2"
       ]
      }
     ],
     "prompt_number": 4
    },
    {
     "cell_type": "code",
     "collapsed": false,
     "input": [
      "for i = 5:-1:1\n",
      "    println(i)\n",
      "end"
     ],
     "language": "python",
     "metadata": {},
     "outputs": [
      {
       "output_type": "stream",
       "stream": "stdout",
       "text": [
        "5"
       ]
      },
      {
       "output_type": "stream",
       "stream": "stdout",
       "text": [
        "\n",
        "4\n",
        "3\n",
        "2\n",
        "1\n"
       ]
      }
     ],
     "prompt_number": 2
    },
    {
     "cell_type": "code",
     "collapsed": false,
     "input": [],
     "language": "python",
     "metadata": {},
     "outputs": [],
     "prompt_number": 3
    }
   ],
   "metadata": {}
  }
 ]
}