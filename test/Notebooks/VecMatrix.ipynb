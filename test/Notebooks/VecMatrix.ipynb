{
 "metadata": {
  "language": "Julia",
  "name": "",
  "signature": "sha256:3bb5c241725450230e658d12c74b811bfe7e319f2f88e3cc2a91919925ad7d27"
 },
 "nbformat": 3,
 "nbformat_minor": 0,
 "worksheets": [
  {
   "cells": [
    {
     "cell_type": "code",
     "collapsed": false,
     "input": [
      "N = 10\n",
      "dim= 2\n",
      "v0 = 1\n",
      "pos = Array[] #Vector de posiciones\n",
      "vel = Array[] #Vector de velocidades\n",
      "Dist = zeros(N,N) #Matriz de distancias\n",
      "Adj = zeros(N,N) #Matriz de adjacencia\n",
      "\n",
      "r0 = 1.\n",
      "L = 2.\n",
      "\n",
      "#Genera N vectores aleatorios de dimension dim\n",
      "for i = 1:N\n",
      "    #push!(pos,rand(-L:L,dim)) #inicia en una caja de tamanio L\n",
      "    push!(pos,rand(dim)*L) #inicia en una caja de tamanio L\n",
      "    push!(vel,rand(dim))\n",
      "end\n",
      "\n",
      "#Normaliza los vectores, magnitud v0 direccion aleatoria\n",
      "for i in 1:N\n",
      "    vel[i] = vel[i] * (v0/norm(vel[i]))\n",
      "    #println(norm(vel[i]))\n",
      "end\n",
      "\n",
      "#calcula distancias y adjacencia\n",
      "Adj = zeros(N,N) #Limpia matriz adjacencia\n",
      "Dist = zeros(N,N) #Limpia matriz adjacencia\n",
      "\n",
      "for i = 1:N\n",
      "    for j = N:-1:i\n",
      "        \n",
      "        d = norm(pos[i]-pos[j])\n",
      "        Dist[i;j] = Dist[j;i] = d\n",
      "        \n",
      "        #d < r0 && d > 0 ? Adj[i;j] = Adj[j;i] = 1 : Adj[i;j] = 0\n",
      "        d < r0 ? Adj[i;j] = Adj[j;i] = 1 : Adj[i;j] = 0\n",
      "    end\n",
      "end\n",
      "\n",
      "println(\"Distancias:\\n $Dist\")\n",
      "println(\"Adjacencia:\\n $Adj\")\n",
      "\n",
      "#Actualiza posiciones\n",
      "#println(pos)\n",
      "for i = 1:N\n",
      "    pos[i] = pos[i] + vel[i] \n",
      "end\n",
      "#println(pos)\n",
      "\n",
      "rand(-2:2,2)\n",
      "\n",
      "println(\"Posiciones:\\n $pos\")\n",
      "println(\"Velocidades:\\n $vel\")\n",
      "println(pos[1])\n",
      "#Actualiza velocidades"
     ],
     "language": "python",
     "metadata": {},
     "outputs": []
    },
    {
     "cell_type": "code",
     "collapsed": false,
     "input": [
      "for i = 5:-1:1\n",
      "    println(i)\n",
      "end"
     ],
     "language": "python",
     "metadata": {},
     "outputs": []
    },
    {
     "cell_type": "code",
     "collapsed": false,
     "input": [
      "pos = [1.0 0.0]\n",
      "#vel = Array(Float64,1,2)\n",
      "vel = [rand() rand()]\n",
      "println(typeof(pos))\n",
      "println(typeof(vel))\n",
      "println(\"$pos\\t$vel\")\n",
      "\n",
      "D = zeros(2,2)"
     ],
     "language": "python",
     "metadata": {},
     "outputs": []
    },
    {
     "cell_type": "code",
     "collapsed": false,
     "input": [
      "\u03b1 = 1\u03c0/2\n",
      "M = [cos(\u03b1) -sin(\u03b1) ; sin(\u03b1) cos(\u03b1)]\n",
      "v = [1.0 0.0]\n",
      "\n",
      "println(typeof(M))\n",
      "println(typeof(v))\n",
      "\n",
      "println(M)\n",
      "println(v)\n",
      "\n",
      "v*M"
     ],
     "language": "python",
     "metadata": {},
     "outputs": []
    },
    {
     "cell_type": "code",
     "collapsed": false,
     "input": [
      "V = [2.0,4.0]\n",
      "U = [1.0,1.0]\n",
      "s = 2.0\n",
      "dt = 1.0\n",
      "scale!(V,s)\n",
      "println(\"V = $V\")\n",
      "println(\"U = $U\")\n",
      "#println(U .+ scale(V,dt))\n",
      "#println(broadcast(+,U,V))\n",
      "\n",
      "function v1(U,V,dt)\n",
      "   U = U .+ scale(V,dt)\n",
      "end\n",
      "\n",
      "function v2(U,V,dt)\n",
      "    broadcast!(+,U,U,scale(V,dt))\n",
      "end\n",
      "\n",
      "@time v1(U,V,dt)\n",
      "println(\"app v1 -> U = $U\")\n",
      "#U = [1.0,1.0]\n",
      "@time v2(U,V,dt)\n",
      "println(\"app v2 -> U = $U\")\n",
      "\n",
      "norm(V-U)"
     ],
     "language": "python",
     "metadata": {},
     "outputs": [
      {
       "output_type": "stream",
       "stream": "stdout",
       "text": [
        "V = [4.0,8.0]\n"
       ]
      },
      {
       "output_type": "stream",
       "stream": "stdout",
       "text": [
        "U = [1.0,1.0]\n",
        "elapsed time: 0.003633828 seconds (29 kB allocated)\n",
        "app v1 -> U = [1.0,1.0]\n",
        "elapsed time: 0.003006362 seconds (16 kB allocated)\n",
        "app v2 -> U = [5.0,9.0]\n"
       ]
      },
      {
       "metadata": {},
       "output_type": "pyout",
       "prompt_number": 58,
       "text": [
        "1.4142135623730951"
       ]
      }
     ],
     "prompt_number": 58
    },
    {
     "cell_type": "code",
     "collapsed": false,
     "input": [
      "function RotVec!(vec::Array{Float64,1},alpha::Float64)\n",
      "\n",
      "    X = vec[1]*cos(alpha) - vec[2]*sin(alpha)\n",
      "    Y = vec[1]*sin(alpha) + vec[2]*cos(alpha)\n",
      "\n",
      "    vec[1] = X\n",
      "    vec[2] = Y\n",
      "end"
     ],
     "language": "python",
     "metadata": {},
     "outputs": [
      {
       "metadata": {},
       "output_type": "pyout",
       "prompt_number": 75,
       "text": [
        "RotVec! (generic function with 2 methods)"
       ]
      }
     ],
     "prompt_number": 75
    },
    {
     "cell_type": "code",
     "collapsed": false,
     "input": [
      "v = [1.0,0.0]\n",
      "\u03b1 = 0.5*pi\n",
      "typeof(\u03b1)\n",
      "\n",
      "RotVec!(v,\u03b1)\n",
      "println(v)\n",
      "\n",
      "c = zeros(3)\n",
      "typeof(c[1])"
     ],
     "language": "python",
     "metadata": {},
     "outputs": [
      {
       "output_type": "stream",
       "stream": "stdout",
       "text": [
        "[6"
       ]
      },
      {
       "output_type": "stream",
       "stream": "stdout",
       "text": [
        ".123233995736766e-17,1.0]\n"
       ]
      },
      {
       "metadata": {},
       "output_type": "pyout",
       "prompt_number": 79,
       "text": [
        "Float64"
       ]
      }
     ],
     "prompt_number": 79
    }
   ],
   "metadata": {}
  }
 ]
}