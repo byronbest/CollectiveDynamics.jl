{
 "metadata": {
  "language": "Julia",
  "name": "",
  "signature": "sha256:cd9ad36d7455850830e6b721c8d36bfa0542230088e8f5627d57bb010bbd5b2a"
 },
 "nbformat": 3,
 "nbformat_minor": 0,
 "worksheets": [
  {
   "cells": [
    {
     "cell_type": "code",
     "collapsed": false,
     "input": [
      "using DataFrames"
     ],
     "language": "python",
     "metadata": {},
     "outputs": [],
     "prompt_number": 1
    },
    {
     "cell_type": "code",
     "collapsed": false,
     "input": [
      "n = 10\n",
      "sp = spzeros(n,n)"
     ],
     "language": "python",
     "metadata": {},
     "outputs": [
      {
       "metadata": {},
       "output_type": "pyout",
       "prompt_number": 2,
       "text": [
        "10x10 sparse matrix with 0 Float64 entries:"
       ]
      }
     ],
     "prompt_number": 2
    },
    {
     "cell_type": "code",
     "collapsed": false,
     "input": [
      "for i in 1:3, j in 1:5\n",
      "    sp[rand(1:5),rand(1:5)] = 1\n",
      "end\n",
      "full(sp)"
     ],
     "language": "python",
     "metadata": {},
     "outputs": [
      {
       "metadata": {},
       "output_type": "pyout",
       "prompt_number": 5,
       "text": [
        "10x10 Array{Float64,2}:\n",
        " 1.0  1.0  1.0  1.0  1.0  0.0  0.0  0.0  0.0  0.0\n",
        " 1.0  1.0  1.0  0.0  1.0  0.0  0.0  0.0  0.0  0.0\n",
        " 1.0  1.0  0.0  1.0  1.0  0.0  0.0  0.0  0.0  0.0\n",
        " 0.0  0.0  1.0  1.0  1.0  0.0  0.0  0.0  0.0  0.0\n",
        " 1.0  1.0  1.0  1.0  1.0  0.0  0.0  0.0  0.0  0.0\n",
        " 0.0  0.0  0.0  0.0  0.0  0.0  0.0  0.0  0.0  0.0\n",
        " 0.0  0.0  0.0  0.0  0.0  0.0  0.0  0.0  0.0  0.0\n",
        " 0.0  0.0  0.0  0.0  0.0  0.0  0.0  0.0  0.0  0.0\n",
        " 0.0  0.0  0.0  0.0  0.0  0.0  0.0  0.0  0.0  0.0\n",
        " 0.0  0.0  0.0  0.0  0.0  0.0  0.0  0.0  0.0  0.0"
       ]
      }
     ],
     "prompt_number": 5
    },
    {
     "cell_type": "code",
     "collapsed": false,
     "input": [],
     "language": "python",
     "metadata": {},
     "outputs": []
    }
   ],
   "metadata": {}
  }
 ]
}