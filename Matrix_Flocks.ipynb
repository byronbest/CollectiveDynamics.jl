{
 "metadata": {
  "language": "Julia",
  "name": "",
  "signature": "sha256:4cad75161c1bbdeb463980b5b7fd3d9005e8c58a7cda12d539ad3d6f96da2d8b"
 },
 "nbformat": 3,
 "nbformat_minor": 0,
 "worksheets": [
  {
   "cells": [
    {
     "cell_type": "code",
     "collapsed": false,
     "input": [
      "v = [1 2]\n",
      "u = [2 3]"
     ],
     "language": "python",
     "metadata": {},
     "outputs": [
      {
       "metadata": {},
       "output_type": "pyout",
       "prompt_number": 2,
       "text": [
        "1x2 Array{Int64,2}:\n",
        " 2  3"
       ]
      }
     ],
     "prompt_number": 2
    },
    {
     "cell_type": "code",
     "collapsed": false,
     "input": [
      "v*u'"
     ],
     "language": "python",
     "metadata": {},
     "outputs": [
      {
       "metadata": {},
       "output_type": "pyout",
       "prompt_number": 3,
       "text": [
        "1x1 Array{Int64,2}:\n",
        " 8"
       ]
      }
     ],
     "prompt_number": 3
    },
    {
     "cell_type": "code",
     "collapsed": false,
     "input": [
      "p = [u ; v]\n",
      "println(p)\n",
      "println(p[1,:]')\n",
      "println(p[1,:])"
     ],
     "language": "python",
     "metadata": {},
     "outputs": [
      {
       "output_type": "stream",
       "stream": "stdout",
       "text": [
        "[2"
       ]
      },
      {
       "output_type": "stream",
       "stream": "stdout",
       "text": [
        " 3\n",
        " 1 2]\n",
        "[2\n",
        " 3]\n",
        "[2 3]\n"
       ]
      }
     ],
     "prompt_number": 4
    },
    {
     "cell_type": "code",
     "collapsed": false,
     "input": [
      "A = [0 1;1 0]\n",
      "println(A)\n",
      "println(A*p[1,:]')\n",
      "println(p[1,:]*A)\n",
      "println(p[1,:]'*A[1,:])\n"
     ],
     "language": "python",
     "metadata": {},
     "outputs": [
      {
       "output_type": "stream",
       "stream": "stdout",
       "text": [
        "[0 1\n",
        " 1 0]\n",
        "[3\n",
        " 2]\n",
        "[3 2]\n",
        "[0 2\n",
        " 0 3]\n"
       ]
      }
     ],
     "prompt_number": 5
    },
    {
     "cell_type": "code",
     "collapsed": false,
     "input": [
      "v = rand(5)\n",
      "push!(v,3)\n",
      "#push!(v,rand(2)) #Esto no funcion\u00f3"
     ],
     "language": "python",
     "metadata": {},
     "outputs": [
      {
       "metadata": {},
       "output_type": "pyout",
       "prompt_number": 6,
       "text": [
        "6-element Array{Float64,1}:\n",
        " 0.840395\n",
        " 0.9835  \n",
        " 0.553337\n",
        " 0.760898\n",
        " 0.749295\n",
        " 3.0     "
       ]
      }
     ],
     "prompt_number": 6
    },
    {
     "cell_type": "code",
     "collapsed": false,
     "input": [
      "v = Array{Any}[]\n",
      "for i = 1:5\n",
      "    push!(v,rand(2))\n",
      "end\n",
      "\n",
      "v[1]"
     ],
     "language": "python",
     "metadata": {},
     "outputs": [
      {
       "metadata": {},
       "output_type": "pyout",
       "prompt_number": 7,
       "text": [
        "2-element Array{Any,1}:\n",
        " 0.766264\n",
        " 0.159736"
       ]
      }
     ],
     "prompt_number": 7
    },
    {
     "cell_type": "code",
     "collapsed": false,
     "input": [
      "vv = Array[]"
     ],
     "language": "python",
     "metadata": {},
     "outputs": [
      {
       "metadata": {},
       "output_type": "pyout",
       "prompt_number": 8,
       "text": [
        "0-element Array{Array{T,N},1}"
       ]
      }
     ],
     "prompt_number": 8
    },
    {
     "cell_type": "code",
     "collapsed": false,
     "input": [
      "push!(vv, rand(3))"
     ],
     "language": "python",
     "metadata": {},
     "outputs": [
      {
       "metadata": {},
       "output_type": "pyout",
       "prompt_number": 9,
       "text": [
        "1-element Array{Array{T,N},1}:\n",
        " [0.5750964940227006,0.669173222481148,0.7935499929160834]"
       ]
      }
     ],
     "prompt_number": 9
    },
    {
     "cell_type": "code",
     "collapsed": false,
     "input": [
      "A = [1 0 0; 1 1 1; 0 0 1]"
     ],
     "language": "python",
     "metadata": {},
     "outputs": [
      {
       "metadata": {},
       "output_type": "pyout",
       "prompt_number": 10,
       "text": [
        "3x3 Array{Int64,2}:\n",
        " 1  0  0\n",
        " 1  1  1\n",
        " 0  0  1"
       ]
      }
     ],
     "prompt_number": 10
    },
    {
     "cell_type": "code",
     "collapsed": false,
     "input": [
      "vel = Array[]\n",
      "\n",
      "for i in 1:3\n",
      "    push!(vel,rand(2))\n",
      "end\n",
      "vel"
     ],
     "language": "python",
     "metadata": {},
     "outputs": [
      {
       "metadata": {},
       "output_type": "pyout",
       "prompt_number": 11,
       "text": [
        "3-element Array{Array{T,N},1}:\n",
        " [0.5667644175850037,0.8728676895741703] \n",
        " [0.9510206245465898,0.34622951969288973]\n",
        " [0.7335935872395052,0.9188599987313597] "
       ]
      }
     ],
     "prompt_number": 11
    },
    {
     "cell_type": "code",
     "collapsed": false,
     "input": [
      "\n",
      "for i in 1:size(A)[1]\n",
      "    for j in 1:size(A)[2]\n",
      "       # println(A[i,j])\n",
      "        println(A[i,j]*vel)\n",
      "    end\n",
      "end"
     ],
     "language": "python",
     "metadata": {},
     "outputs": [
      {
       "output_type": "stream",
       "stream": "stdout",
       "text": [
        "Any["
       ]
      },
      {
       "output_type": "stream",
       "stream": "stdout",
       "text": [
        "[0.5667644175850037,0.8728676895741703],[0.9510206245465898,0.34622951969288973],[0.7335935872395052,0.9188599987313597]]\n",
        "Any[[0.0,0.0],[0.0,0.0],[0.0,0.0]]\n",
        "Any[[0.0,0.0],[0.0,0.0],[0.0,0.0]]\n",
        "Any[[0.5667644175850037,0.8728676895741703],[0.9510206245465898,0.34622951969288973],[0.7335935872395052,0.9188599987313597]]\n",
        "Any[[0.5667644175850037,0.8728676895741703],[0.9510206245465898,0.34622951969288973],[0.7335935872395052,0.9188599987313597]]\n",
        "Any[[0.5667644175850037,0.8728676895741703],[0.9510206245465898,0.34622951969288973],[0.7335935872395052,0.9188599987313597]]\n",
        "Any[[0.0,0.0],[0.0,0.0],[0.0,0.0]]\n",
        "Any[[0.0,0.0],[0.0,0.0],[0.0,0.0]]\n",
        "Any[[0.5667644175850037,0.8728676895741703],[0.9510206245465898,0.34622951969288973],[0.7335935872395052,0.9188599987313597]]\n"
       ]
      }
     ],
     "prompt_number": 12
    },
    {
     "cell_type": "code",
     "collapsed": false,
     "input": [
      "v = [1 2]\n",
      "u = [2 3]\n",
      "\n",
      "u + v\n",
      "2*u\n",
      "\n",
      "A[1;:]"
     ],
     "language": "python",
     "metadata": {},
     "outputs": [
      {
       "metadata": {},
       "output_type": "pyout",
       "prompt_number": 13,
       "text": [
        "1x3 Array{Int64,2}:\n",
        " 1  0  0"
       ]
      }
     ],
     "prompt_number": 13
    },
    {
     "cell_type": "code",
     "collapsed": false,
     "input": [
      "#println(A[1;:].*vel)\n",
      "\n",
      "U = vel'.*A[2;:]\n",
      "\n",
      "k = sum(A[2;:])\n",
      "\n",
      "println(k)\n",
      "println(U)\n",
      "\n",
      "1/k * sum(U)\n"
     ],
     "language": "python",
     "metadata": {},
     "outputs": [
      {
       "output_type": "stream",
       "stream": "stdout",
       "text": [
        "3\n"
       ]
      },
      {
       "output_type": "stream",
       "stream": "stdout",
       "text": [
        "Any["
       ]
      },
      {
       "output_type": "stream",
       "stream": "stdout",
       "text": [
        "["
       ]
      },
      {
       "output_type": "stream",
       "stream": "stdout",
       "text": [
        "0.5667644175850037 0.8728676895741703] [0.9510206245465898 0.34622951969288973] [0.7335935872395052 0.9188599987313597]]\n"
       ]
      },
      {
       "metadata": {},
       "output_type": "pyout",
       "prompt_number": 14,
       "text": [
        "1x2 Array{Float64,2}:\n",
        " 0.75046  0.712652"
       ]
      }
     ],
     "prompt_number": 14
    },
    {
     "cell_type": "code",
     "collapsed": false,
     "input": [
      "#angs = Array{Float64}[] #Arreglo para guardar angulos\n",
      "#angs = Array[] #Arreglo para guardar angulos\n",
      "angs = Float64[] #Arreglo para guardar angulos\n",
      "\n",
      "println(angs)\n",
      "\n",
      "for i = 1:size(A)[1]\n",
      "    U = vel'.*A[i;:] #Determina la vecindad\n",
      "    k = sum(A[i;:]) #Numero de parts en la vecindad \n",
      "    v = 1/k * sum(U) #Calcula vector promedio\n",
      "#    println(degs(atan2(v[2],v[1])))\n",
      "    a = atan2(v[2],v[1]) #Direccion del vector promedio\n",
      "    println(\"part $i -> ang prom $a\")\n",
      "    push!(angs,a) #agrega el angulo al arreglo\n",
      "end\n",
      "\n",
      "angs"
     ],
     "language": "python",
     "metadata": {},
     "outputs": [
      {
       "output_type": "stream",
       "stream": "stdout",
       "text": [
        "Float64"
       ]
      },
      {
       "output_type": "stream",
       "stream": "stdout",
       "text": [
        "[]\n",
        "part 1 -> ang prom 0.9949041463310238\n",
        "part 2 -> ang prom 0.7595636883866709\n",
        "part 3 -> ang prom 0.8970478642476467\n"
       ]
      },
      {
       "metadata": {},
       "output_type": "pyout",
       "prompt_number": 15,
       "text": [
        "3-element Array{Float64,1}:\n",
        " 0.994904\n",
        " 0.759564\n",
        " 0.897048"
       ]
      }
     ],
     "prompt_number": 15
    },
    {
     "cell_type": "code",
     "collapsed": false,
     "input": [
      "# atan2(y,x)\n",
      "atan2(1,0)\n"
     ],
     "language": "python",
     "metadata": {},
     "outputs": [
      {
       "metadata": {},
       "output_type": "pyout",
       "prompt_number": 16,
       "text": [
        "1.5707963267948966"
       ]
      }
     ],
     "prompt_number": 16
    },
    {
     "cell_type": "code",
     "collapsed": false,
     "input": [
      "degs(x) = x*180/pi\n",
      "\n",
      "degs(atan2(0,-1))"
     ],
     "language": "python",
     "metadata": {},
     "outputs": [
      {
       "metadata": {},
       "output_type": "pyout",
       "prompt_number": 17,
       "text": [
        "180.0"
       ]
      }
     ],
     "prompt_number": 17
    },
    {
     "cell_type": "code",
     "collapsed": false,
     "input": [
      "k = 3\n",
      "N = 5\n",
      "\n",
      "#Matriz aleatoria\n",
      "X = zeros(N,N)\n",
      "\n",
      "#for i = 1:size(X)[1]\n",
      "for i = 1:N\n",
      "    for j = 1:k        \n",
      "        switch = true\n",
      "        while switch \n",
      "            s = rand(1:N)\n",
      "            \n",
      "            if s != i\n",
      "            \n",
      "                X[i,s] = 1\n",
      "                #X[i,s] = X[s,i] = 1 \n",
      "                switch = false\n",
      "            end\n",
      "        end\n",
      "    end\n",
      "end\n",
      "\n",
      "println(X)"
     ],
     "language": "python",
     "metadata": {},
     "outputs": [
      {
       "output_type": "stream",
       "stream": "stdout",
       "text": [
        "[0"
       ]
      },
      {
       "output_type": "stream",
       "stream": "stdout",
       "text": [
        ".0 0.0 0.0 1.0 0.0\n",
        " 0.0 0.0 0.0 1.0 1.0\n",
        " 1.0 0.0 0.0 1.0 1.0\n",
        " 0.0 1.0 1.0 0.0 0.0\n",
        " 0.0 1.0 1.0 0.0 0.0]\n"
       ]
      }
     ],
     "prompt_number": 41
    },
    {
     "cell_type": "code",
     "collapsed": false,
     "input": [
      "for i in 1:15\n",
      "    println(rand(1:k))\n",
      "end"
     ],
     "language": "python",
     "metadata": {},
     "outputs": [
      {
       "output_type": "stream",
       "stream": "stdout",
       "text": [
        "3\n"
       ]
      },
      {
       "output_type": "stream",
       "stream": "stdout",
       "text": [
        "2\n",
        "3\n",
        "1\n",
        "3\n",
        "2\n",
        "2\n",
        "1\n",
        "3\n",
        "3\n",
        "3\n",
        "3\n",
        "3\n",
        "3\n",
        "1\n"
       ]
      }
     ],
     "prompt_number": 30
    },
    {
     "cell_type": "code",
     "collapsed": false,
     "input": [
      "r = rand(-pi:pi,2)"
     ],
     "language": "python",
     "metadata": {},
     "outputs": [
      {
       "metadata": {},
       "output_type": "pyout",
       "prompt_number": 46,
       "text": [
        "2-element Array{Float64,1}:\n",
        "  0.858407\n",
        " -1.14159 "
       ]
      }
     ],
     "prompt_number": 46
    },
    {
     "cell_type": "code",
     "collapsed": false,
     "input": [
      "alpha = pi/2\n",
      "\n",
      "M = [cos(alpha) sin(alpha) ; -sin(alpha) cos(alpha)]\n",
      "\n",
      "println(M)\n",
      "\n",
      "a = [0 1]\n",
      "\n",
      "println(typeof(a))\n",
      "\n",
      "println(a')\n",
      "\n",
      "println(M*a')"
     ],
     "language": "python",
     "metadata": {},
     "outputs": [
      {
       "output_type": "stream",
       "stream": "stdout",
       "text": [
        "[6"
       ]
      },
      {
       "output_type": "stream",
       "stream": "stdout",
       "text": [
        ".123233995736766e-17 1.0\n",
        " -1.0 6.123233995736766e-17]\n",
        "Array{Int64,2}\n",
        "[0\n",
        " 1]\n",
        "[1.0\n",
        " 6.123233995736766e-17]\n"
       ]
      }
     ],
     "prompt_number": 76
    },
    {
     "cell_type": "code",
     "collapsed": false,
     "input": [
      "\u03b7 = rand(2)"
     ],
     "language": "python",
     "metadata": {},
     "outputs": [
      {
       "metadata": {},
       "output_type": "pyout",
       "prompt_number": 66,
       "text": [
        "2-element Array{Float64,1}:\n",
        " 0.0744948\n",
        " 0.771865 "
       ]
      }
     ],
     "prompt_number": 66
    },
    {
     "cell_type": "code",
     "collapsed": false,
     "input": [
      "\n",
      "a = [1 0]\n",
      "\n",
      "a'.*\u03b7"
     ],
     "language": "python",
     "metadata": {},
     "outputs": [
      {
       "metadata": {},
       "output_type": "pyout",
       "prompt_number": 67,
       "text": [
        "2x1 Array{Float64,2}:\n",
        " 0.0744948\n",
        " 0.0      "
       ]
      }
     ],
     "prompt_number": 67
    },
    {
     "cell_type": "code",
     "collapsed": false,
     "input": [
      "a = 1\n",
      "\n",
      "println(a)\n",
      "\n",
      "println(abs(1-a))"
     ],
     "language": "python",
     "metadata": {},
     "outputs": [
      {
       "output_type": "stream",
       "stream": "stdout",
       "text": [
        "1\n"
       ]
      },
      {
       "output_type": "stream",
       "stream": "stdout",
       "text": [
        "0\n"
       ]
      }
     ],
     "prompt_number": 75
    },
    {
     "cell_type": "code",
     "collapsed": false,
     "input": [
      "s = rand(2)"
     ],
     "language": "python",
     "metadata": {},
     "outputs": [
      {
       "metadata": {},
       "output_type": "pyout",
       "prompt_number": 79,
       "text": [
        "2-element Array{Float64,1}:\n",
        " 0.789631\n",
        " 0.436159"
       ]
      }
     ],
     "prompt_number": 79
    },
    {
     "cell_type": "code",
     "collapsed": false,
     "input": [
      "T = 10\n",
      "\n",
      "for i = 1:T\n",
      "    println(i) \n",
      "end"
     ],
     "language": "python",
     "metadata": {},
     "outputs": [
      {
       "output_type": "stream",
       "stream": "stdout",
       "text": [
        "1\n"
       ]
      },
      {
       "output_type": "stream",
       "stream": "stdout",
       "text": [
        "2\n",
        "3\n",
        "4\n",
        "5\n",
        "6\n",
        "7\n",
        "8\n",
        "9\n",
        "10\n"
       ]
      }
     ],
     "prompt_number": 84
    },
    {
     "cell_type": "code",
     "collapsed": false,
     "input": [
      "#f = open(\"../test.txt\",\"w\")\n",
      "s = [0 1 ]\n",
      "f = open(\"../files/test.txt\",\"w\")\n",
      "\n",
      "write(f,\"cosa\")\n",
      "write(f,\"\\n\")\n",
      "write(f,\"otra cosa\")\n",
      "write(f,\"\\n\")\n",
      "write(f,s)\n",
      "\n",
      "close(f)"
     ],
     "language": "python",
     "metadata": {},
     "outputs": [],
     "prompt_number": 8
    },
    {
     "cell_type": "code",
     "collapsed": false,
     "input": [
      "s = [0 1 ]\n",
      "\n",
      "rr = repr(s)\n",
      "println(rr)\n",
      "typeof(rr)\n",
      "println(rr[1])\n",
      "println(rr[2])\n",
      "println(rr[3])\n",
      "println(rr[4])\n",
      "#println(s)\n",
      "#s"
     ],
     "language": "python",
     "metadata": {},
     "outputs": [
      {
       "output_type": "stream",
       "stream": "stdout",
       "text": [
        "[0 1]\n"
       ]
      },
      {
       "output_type": "stream",
       "stream": "stdout",
       "text": [
        "[\n",
        "0\n",
        " \n",
        "1\n"
       ]
      }
     ],
     "prompt_number": 19
    },
    {
     "cell_type": "code",
     "collapsed": false,
     "input": [
      "a = [0.1 2.3]\n",
      "\n",
      "b = Array{Float64,2}[]\n",
      "\n",
      "typeof(b)"
     ],
     "language": "python",
     "metadata": {},
     "outputs": [
      {
       "metadata": {},
       "output_type": "pyout",
       "prompt_number": 8,
       "text": [
        "Array{Array{Float64,2},1}"
       ]
      }
     ],
     "prompt_number": 8
    },
    {
     "cell_type": "code",
     "collapsed": false,
     "input": [
      "for i = 1:100    \n",
      "    if i == 1 || i%10 == 0\n",
      "        println(i) \n",
      "    end\n",
      "end"
     ],
     "language": "python",
     "metadata": {},
     "outputs": [
      {
       "output_type": "stream",
       "stream": "stdout",
       "text": [
        "1\n"
       ]
      },
      {
       "output_type": "stream",
       "stream": "stdout",
       "text": [
        "10\n",
        "20\n",
        "30\n",
        "40\n",
        "50\n",
        "60\n",
        "70\n",
        "80\n",
        "90\n",
        "100\n"
       ]
      }
     ],
     "prompt_number": 4
    }
   ],
   "metadata": {}
  }
 ]
}