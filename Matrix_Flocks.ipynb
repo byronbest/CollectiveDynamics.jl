{
 "metadata": {
  "language": "Julia",
  "name": "",
  "signature": "sha256:cb6c984cb37c1e49143948b59d5688481a0dbd18f02335dcaa83e63a00ef7464"
 },
 "nbformat": 3,
 "nbformat_minor": 0,
 "worksheets": [
  {
   "cells": [
    {
     "cell_type": "code",
     "collapsed": false,
     "input": [
      "v = [1 2]\n",
      "u = [2 3]"
     ],
     "language": "python",
     "metadata": {},
     "outputs": [
      {
       "metadata": {},
       "output_type": "pyout",
       "prompt_number": 5,
       "text": [
        "1x2 Array{Int64,2}:\n",
        " 2  3"
       ]
      }
     ],
     "prompt_number": 5
    },
    {
     "cell_type": "code",
     "collapsed": false,
     "input": [
      "v*u'"
     ],
     "language": "python",
     "metadata": {},
     "outputs": [
      {
       "metadata": {},
       "output_type": "pyout",
       "prompt_number": 7,
       "text": [
        "1x1 Array{Int64,2}:\n",
        " 8"
       ]
      }
     ],
     "prompt_number": 7
    },
    {
     "cell_type": "code",
     "collapsed": false,
     "input": [
      "p = [u ; v]\n",
      "println(p)\n",
      "println(p[1,:]')\n",
      "println(p[1,:])"
     ],
     "language": "python",
     "metadata": {},
     "outputs": [
      {
       "output_type": "stream",
       "stream": "stdout",
       "text": [
        "[2"
       ]
      },
      {
       "output_type": "stream",
       "stream": "stdout",
       "text": [
        " 3\n",
        " 1 2]\n",
        "[2\n",
        " 3]\n",
        "[2 3]\n"
       ]
      }
     ],
     "prompt_number": 20
    },
    {
     "cell_type": "code",
     "collapsed": false,
     "input": [
      "A = [0 1;1 0]\n",
      "println(A)\n",
      "println(A*p[1,:]')\n",
      "println(p[1,:]*A)\n"
     ],
     "language": "python",
     "metadata": {},
     "outputs": [
      {
       "output_type": "stream",
       "stream": "stdout",
       "text": [
        "[0"
       ]
      },
      {
       "output_type": "stream",
       "stream": "stdout",
       "text": [
        " 1\n",
        " 1 0]\n",
        "[3\n",
        " 2]\n",
        "[3 2]\n"
       ]
      }
     ],
     "prompt_number": 26
    }
   ],
   "metadata": {}
  }
 ]
}