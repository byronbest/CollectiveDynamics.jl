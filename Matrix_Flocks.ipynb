{
 "metadata": {
  "language": "Julia",
  "name": "",
  "signature": "sha256:d88ab96bbefae167088a1deb21f314772c993fba6984e467ede4c12cd9ac6f6c"
 },
 "nbformat": 3,
 "nbformat_minor": 0,
 "worksheets": [
  {
   "cells": [
    {
     "cell_type": "code",
     "collapsed": false,
     "input": [
      "v = [1 2]\n",
      "u = [2 3]"
     ],
     "language": "python",
     "metadata": {},
     "outputs": [
      {
       "metadata": {},
       "output_type": "pyout",
       "prompt_number": 1,
       "text": [
        "1x2 Array{Int64,2}:\n",
        " 2  3"
       ]
      }
     ],
     "prompt_number": 1
    },
    {
     "cell_type": "code",
     "collapsed": false,
     "input": [
      "v*u'"
     ],
     "language": "python",
     "metadata": {},
     "outputs": [
      {
       "metadata": {},
       "output_type": "pyout",
       "prompt_number": 2,
       "text": [
        "1x1 Array{Int64,2}:\n",
        " 8"
       ]
      }
     ],
     "prompt_number": 2
    },
    {
     "cell_type": "code",
     "collapsed": false,
     "input": [
      "p = [u ; v]\n",
      "println(p)\n",
      "println(p[1,:]')\n",
      "println(p[1,:])"
     ],
     "language": "python",
     "metadata": {},
     "outputs": [
      {
       "output_type": "stream",
       "stream": "stdout",
       "text": [
        "[2"
       ]
      },
      {
       "output_type": "stream",
       "stream": "stdout",
       "text": [
        " 3\n",
        " 1 2]\n",
        "[2\n",
        " 3]\n",
        "[2 3]\n"
       ]
      }
     ],
     "prompt_number": 3
    },
    {
     "cell_type": "code",
     "collapsed": false,
     "input": [
      "A = [0 1;1 0]\n",
      "println(A)\n",
      "println(A*p[1,:]')\n",
      "println(p[1,:]*A)\n",
      "println(p[1,:]'*A[1,:])\n"
     ],
     "language": "python",
     "metadata": {},
     "outputs": [
      {
       "output_type": "stream",
       "stream": "stdout",
       "text": [
        "[0 1\n",
        " 1 0]\n",
        "[3\n",
        " 2]\n",
        "[3 2]\n",
        "[0 2\n",
        " 0 3]\n"
       ]
      }
     ],
     "prompt_number": 4
    },
    {
     "cell_type": "code",
     "collapsed": false,
     "input": [
      "v = rand(5)\n",
      "push!(v,3)\n",
      "#push!(v,rand(2)) #Esto no funcion\u00f3"
     ],
     "language": "python",
     "metadata": {},
     "outputs": [
      {
       "metadata": {},
       "output_type": "pyout",
       "prompt_number": 5,
       "text": [
        "6-element Array{Float64,1}:\n",
        " 0.407229 \n",
        " 0.13996  \n",
        " 0.105119 \n",
        " 0.332523 \n",
        " 0.0676475\n",
        " 3.0      "
       ]
      }
     ],
     "prompt_number": 5
    },
    {
     "cell_type": "code",
     "collapsed": false,
     "input": [
      "v = Array{Any}[]\n",
      "for i = 1:5\n",
      "    push!(v,rand(2))\n",
      "end\n",
      "\n",
      "v[1]"
     ],
     "language": "python",
     "metadata": {},
     "outputs": [
      {
       "metadata": {},
       "output_type": "pyout",
       "prompt_number": 6,
       "text": [
        "2-element Array{Any,1}:\n",
        " 0.494213\n",
        " 0.16661 "
       ]
      }
     ],
     "prompt_number": 6
    },
    {
     "cell_type": "code",
     "collapsed": false,
     "input": [
      "vv = Array[]"
     ],
     "language": "python",
     "metadata": {},
     "outputs": [
      {
       "metadata": {},
       "output_type": "pyout",
       "prompt_number": 7,
       "text": [
        "0-element Array{Array{T,N},1}"
       ]
      }
     ],
     "prompt_number": 7
    },
    {
     "cell_type": "code",
     "collapsed": false,
     "input": [
      "push!(vv, rand(3))"
     ],
     "language": "python",
     "metadata": {},
     "outputs": [
      {
       "metadata": {},
       "output_type": "pyout",
       "prompt_number": 8,
       "text": [
        "1-element Array{Array{T,N},1}:\n",
        " [0.297863,0.904636,0.235536]"
       ]
      }
     ],
     "prompt_number": 8
    },
    {
     "cell_type": "code",
     "collapsed": false,
     "input": [
      "A = [1 0 0; 1 1 1; 0 0 1]"
     ],
     "language": "python",
     "metadata": {},
     "outputs": [
      {
       "metadata": {},
       "output_type": "pyout",
       "prompt_number": 9,
       "text": [
        "3x3 Array{Int64,2}:\n",
        " 1  0  0\n",
        " 1  1  1\n",
        " 0  0  1"
       ]
      }
     ],
     "prompt_number": 9
    },
    {
     "cell_type": "code",
     "collapsed": false,
     "input": [
      "vel = Array[]\n",
      "\n",
      "for i in 1:3\n",
      "    push!(vel,rand(2))\n",
      "end\n",
      "vel"
     ],
     "language": "python",
     "metadata": {},
     "outputs": [
      {
       "metadata": {},
       "output_type": "pyout",
       "prompt_number": 10,
       "text": [
        "3-element Array{Array{T,N},1}:\n",
        " [0.266325,0.127927]\n",
        " [0.606693,0.180379]\n",
        " [0.50684,0.387259] "
       ]
      }
     ],
     "prompt_number": 10
    },
    {
     "cell_type": "code",
     "collapsed": false,
     "input": [
      "\n",
      "for i in 1:size(A)[1]\n",
      "    for j in 1:size(A)[2]\n",
      "       # println(A[i,j])\n",
      "        println(A[i,j]*vel)\n",
      "    end\n",
      "end"
     ],
     "language": "python",
     "metadata": {},
     "outputs": [
      {
       "output_type": "stream",
       "stream": "stdout",
       "text": [
        "{"
       ]
      },
      {
       "output_type": "stream",
       "stream": "stdout",
       "text": [
        "[0.2663253328515518,0.12792692535629846],[0.6066933229679505,0.1803787480984853],[0.5068404289751469,0.38725918557125216]}\n",
        "{[0.0,0.0],[0.0,0.0],[0.0,0.0]}\n",
        "{[0.0,0.0],[0.0,0.0],[0.0,0.0]}\n",
        "{[0.2663253328515518,0.12792692535629846],[0.6066933229679505,0.1803787480984853],[0.5068404289751469,0.38725918557125216]}\n",
        "{[0.2663253328515518,0.12792692535629846],[0.6066933229679505,0.1803787480984853],[0.5068404289751469,0.38725918557125216]}\n",
        "{[0.2663253328515518,0.12792692535629846],[0.6066933229679505,0.1803787480984853],[0.5068404289751469,0.38725918557125216]}\n",
        "{[0.0,0.0],[0.0,0.0],[0.0,0.0]}\n",
        "{[0.0,0.0],[0.0,0.0],[0.0,0.0]}\n",
        "{[0.2663253328515518,0.12792692535629846],[0.6066933229679505,0.1803787480984853],[0.5068404289751469,0.38725918557125216]}\n"
       ]
      }
     ],
     "prompt_number": 11
    },
    {
     "cell_type": "code",
     "collapsed": false,
     "input": [
      "v = [1 2]\n",
      "u = [2 3]\n",
      "\n",
      "u + v\n",
      "2*u\n",
      "\n",
      "A[1;:]"
     ],
     "language": "python",
     "metadata": {},
     "outputs": [
      {
       "metadata": {},
       "output_type": "pyout",
       "prompt_number": 12,
       "text": [
        "1x3 Array{Int64,2}:\n",
        " 1  0  0"
       ]
      }
     ],
     "prompt_number": 12
    },
    {
     "cell_type": "code",
     "collapsed": false,
     "input": [
      "#println(A[1;:].*vel)\n",
      "\n",
      "U = vel'.*A[2;:]\n",
      "\n",
      "k = sum(A[2;:])\n",
      "\n",
      "println(k)\n",
      "println(U)\n",
      "\n",
      "1/k * sum(U)\n"
     ],
     "language": "python",
     "metadata": {},
     "outputs": [
      {
       "output_type": "stream",
       "stream": "stdout",
       "text": [
        "3"
       ]
      },
      {
       "output_type": "stream",
       "stream": "stdout",
       "text": [
        "\n",
        "Any["
       ]
      },
      {
       "output_type": "stream",
       "stream": "stdout",
       "text": [
        "["
       ]
      },
      {
       "output_type": "stream",
       "stream": "stdout",
       "text": [
        "0.2663253328515518 0.12792692535629846] [0.6066933229679505 0.1803787480984853] [0.5068404289751469 0.38725918557125216]]\n"
       ]
      },
      {
       "metadata": {},
       "output_type": "pyout",
       "prompt_number": 13,
       "text": [
        "1x2 Array{Float64,2}:\n",
        " 0.459953  0.231855"
       ]
      }
     ],
     "prompt_number": 13
    },
    {
     "cell_type": "code",
     "collapsed": false,
     "input": [
      "#angs = Array{Float64}[] #Arreglo para guardar angulos\n",
      "#angs = Array[] #Arreglo para guardar angulos\n",
      "angs = Float64[] #Arreglo para guardar angulos\n",
      "\n",
      "println(angs)\n",
      "\n",
      "for i = 1:size(A)[1]\n",
      "    U = vel'.*A[i;:] #Determina la vecindad\n",
      "    k = sum(A[i;:]) #Numero de parts en la vecindad \n",
      "    v = 1/k * sum(U) #Calcula vector promedio\n",
      "#    println(degs(atan2(v[2],v[1])))\n",
      "    a = atan2(v[2],v[1]) #Direccion del vector promedio\n",
      "    println(\"part $i -> ang prom $a\")\n",
      "    push!(angs,a) #agrega el angulo al arreglo\n",
      "end\n",
      "\n",
      "angs"
     ],
     "language": "python",
     "metadata": {},
     "outputs": [
      {
       "output_type": "stream",
       "stream": "stdout",
       "text": [
        "[]"
       ]
      },
      {
       "output_type": "stream",
       "stream": "stdout",
       "text": [
        "\n",
        "part 1 -> ang prom 0.44779692726423975\n",
        "part 2 -> ang prom 0.4669094527317789\n",
        "part 3 -> ang prom 0.652442297317857\n"
       ]
      },
      {
       "metadata": {},
       "output_type": "pyout",
       "prompt_number": 38,
       "text": [
        "3-element Array{Float64,1}:\n",
        " 0.447797\n",
        " 0.466909\n",
        " 0.652442"
       ]
      }
     ],
     "prompt_number": 38
    },
    {
     "cell_type": "code",
     "collapsed": false,
     "input": [
      "# atan2(y,x)\n",
      "atan2(1,0)\n"
     ],
     "language": "python",
     "metadata": {},
     "outputs": [
      {
       "metadata": {},
       "output_type": "pyout",
       "prompt_number": 15,
       "text": [
        "1.5707963267948966"
       ]
      }
     ],
     "prompt_number": 15
    },
    {
     "cell_type": "code",
     "collapsed": false,
     "input": [
      "degs(x) = x*180/pi\n",
      "\n",
      "degs(atan2(0,-1))"
     ],
     "language": "python",
     "metadata": {},
     "outputs": [
      {
       "metadata": {},
       "output_type": "pyout",
       "prompt_number": 17,
       "text": [
        "180.0"
       ]
      }
     ],
     "prompt_number": 17
    },
    {
     "cell_type": "code",
     "collapsed": false,
     "input": [
      "Float64:: a , b , c "
     ],
     "language": "python",
     "metadata": {},
     "outputs": [
      {
       "ename": "LoadError",
       "evalue": "a not defined\nwhile loading In[40], in expression starting on line 1",
       "output_type": "pyerr",
       "traceback": [
        "a not defined\nwhile loading In[40], in expression starting on line 1",
        ""
       ]
      }
     ],
     "prompt_number": 40
    }
   ],
   "metadata": {}
  }
 ]
}